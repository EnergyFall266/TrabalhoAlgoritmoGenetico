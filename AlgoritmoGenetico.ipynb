{
 "cells": [
  {
   "cell_type": "code",
   "execution_count": 118,
   "source": [
    "import random\r\n",
    "import string\r\n",
    "\r\n"
   ],
   "outputs": [],
   "metadata": {}
  },
  {
   "cell_type": "code",
   "execution_count": 119,
   "source": [
    "def fitness(gene, geneObjetivo):\r\n",
    "    increment = 0\r\n",
    "    if len(gene) != len(geneObjetivo):\r\n",
    "        print(\"tamanho gene diferente\")\r\n",
    "    for i in range(len(gene)):\r\n",
    "        if gene[i] == geneObjetivo[i]:\r\n",
    "            increment += 1\r\n",
    "    fraseParticionada = geneObjetivo.split(\" \")\r\n",
    "    for j in fraseParticionada:\r\n",
    "        if j in gene:\r\n",
    "            increment += 1\r\n",
    "    return increment"
   ],
   "outputs": [],
   "metadata": {}
  },
  {
   "cell_type": "code",
   "execution_count": 120,
   "source": [
    "def criaGene(tamanho):\r\n",
    "    s = string.ascii_lowercase+\" \"\r\n",
    "    a = ''.join(random.choices(s,k = tamanho))\r\n",
    "    a = a.capitalize()\r\n",
    "    return a\r\n",
    "\r\n",
    "def getPopulacao(tamanhoGene, tamanhoPopulacao, geneObjetivo):\r\n",
    "    lista = []\r\n",
    "    for i in range(tamanhoPopulacao):\r\n",
    "        gene = criaGene(tamanhoGene)\r\n",
    "        lista.append([gene, fitness(gene, geneObjetivo)])\r\n",
    "    return lista"
   ],
   "outputs": [],
   "metadata": {}
  },
  {
   "cell_type": "code",
   "execution_count": 121,
   "source": [
    "def crossOver(populacao, taxaElitismo, taxaMutacao, geneObjetivo):\r\n",
    "    \r\n",
    "    quantidadeSelecionados = int(taxaElitismo* len(populacao))\r\n",
    "    proximaGeracao = populacao[:quantidadeSelecionados]\r\n",
    "    for i in range(quantidadeSelecionados, len(populacao)):\r\n",
    "        gene1 = random.choice(populacao)[0]\r\n",
    "        gene2 = random.choice(populacao)[0]\r\n",
    "        pontoMedio = random.randint(1,len(gene1))\r\n",
    "        \r\n",
    "        geneFilho = gene1[:pontoMedio]+ gene2[pontoMedio:]\r\n",
    "        for j in range(len(geneFilho)):\r\n",
    "            if random.random() <= taxaMutacao:\r\n",
    "                s = string.ascii_letters + \" \"\r\n",
    "                geneFilho = geneFilho[:j] + random.choice(s) + geneFilho[j+1:]\r\n",
    "        listaFilho = [geneFilho, fitness(geneFilho, geneObjetivo)]\r\n",
    "        proximaGeracao.append(listaFilho)\r\n",
    "    return proximaGeracao\r\n"
   ],
   "outputs": [],
   "metadata": {}
  },
  {
   "cell_type": "code",
   "execution_count": 122,
   "source": [
    "def algoritmoGenetico(fraseObjetivo, limite, taxaElitismo = 0.02, tamanhoPopulacao = 200, taxaMutacao = 0.01, passo = 500):\r\n",
    "    populacaoInicial = getPopulacao(len(fraseObjetivo) , tamanhoPopulacao, fraseObjetivo)\r\n",
    "    populacao = sorted(populacaoInicial, key = lambda k: k[1], reverse=True)\r\n",
    "    for i in range(limite):\r\n",
    "        if i%500 == 0: \r\n",
    "            print(f'geracao {i}\\nmelhor gene {populacao[0]}')\r\n",
    "        populacao = crossOver(populacao, taxaElitismo, taxaMutacao, fraseObjetivo)\r\n",
    "        populacao = sorted(populacao, key = lambda k: k[1], reverse=True)\r\n",
    "        if(populacao[0][0] == fraseObjetivo):\r\n",
    "            print(f'Objetivo atingido: {populacao[0]}\\nnumero de epocas: {i}')\r\n",
    "            return 0\r\n",
    "    print(f'Objetivo nao atingido\\ngene com maior fitness: {populacao[0]}')"
   ],
   "outputs": [],
   "metadata": {}
  },
  {
   "cell_type": "code",
   "execution_count": 125,
   "source": [
    "if __name__== '__main__':\r\n",
    "    # fraseObjetivo = \"Eu durmo e se eu morrer eu acordo morta\"\r\n",
    "    fraseObjetivo = \"Hello world\"\r\n",
    "    algoritmoGenetico(fraseObjetivo, 8000, 0.01, 300, 0.10)"
   ],
   "outputs": [
    {
     "output_type": "stream",
     "name": "stdout",
     "text": [
      "geracao 0\n",
      "melhor gene ['Qekdjrwnrlf', 4]\n",
      "geracao 500\n",
      "melhor gene ['HeGlo MorlU', 8]\n",
      "geracao 1000\n",
      "melhor gene ['Hello tOrlU', 9]\n",
      "geracao 1500\n",
      "melhor gene ['Hello tOrld', 10]\n",
      "geracao 2000\n",
      "melhor gene ['Hello tOrld', 10]\n",
      "geracao 2500\n",
      "melhor gene ['Hello wOrld', 11]\n",
      "geracao 3000\n",
      "melhor gene ['Hello wOrld', 11]\n",
      "Objetivo atingido: ['Hello world', 13]\n",
      "numero de epocas: 3457\n"
     ]
    }
   ],
   "metadata": {}
  },
  {
   "cell_type": "code",
   "execution_count": 103,
   "source": [
    "random.random()"
   ],
   "outputs": [
    {
     "output_type": "execute_result",
     "data": {
      "text/plain": [
       "0.40216090432954"
      ]
     },
     "metadata": {},
     "execution_count": 103
    }
   ],
   "metadata": {}
  },
  {
   "cell_type": "markdown",
   "source": [
    "- taxa de cruzamento\r\n",
    "- algoritmo da roleta(escolher os pais)\r\n",
    "- gerar mais filhos"
   ],
   "metadata": {}
  }
 ],
 "metadata": {
  "orig_nbformat": 4,
  "language_info": {
   "name": "python",
   "version": "3.8.8",
   "mimetype": "text/x-python",
   "codemirror_mode": {
    "name": "ipython",
    "version": 3
   },
   "pygments_lexer": "ipython3",
   "nbconvert_exporter": "python",
   "file_extension": ".py"
  },
  "kernelspec": {
   "name": "python3",
   "display_name": "Python 3.8.8 64-bit ('amb1': conda)"
  },
  "interpreter": {
   "hash": "f8675bac4d7c47efec3eb3e8dba4d90975b8d22e7f01b8f5d363032a5aa58408"
  }
 },
 "nbformat": 4,
 "nbformat_minor": 2
}