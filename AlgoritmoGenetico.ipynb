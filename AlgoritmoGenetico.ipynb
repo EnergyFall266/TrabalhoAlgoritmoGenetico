{
 "cells": [
  {
   "cell_type": "code",
   "execution_count": 141,
   "source": [
    "import random\r\n",
    "import string\r\n",
    "\r\n",
    "#Igor Franca Negrizoli, Leonardo Vanzin, Roberta Aparecida da Silva Alcantara"
   ],
   "outputs": [],
   "metadata": {}
  },
  {
   "cell_type": "code",
   "execution_count": 142,
   "source": [
    "def fitness(gene, geneObjetivo): \r\n",
    "    #calcula o fitness da string(gene) que tem o mesmo comprimento do gene objetivo\r\n",
    "    #o laço de repeticao percorre no intervalo entre 0 e o comprimento do gene \r\n",
    "    #para cada posicao das strings caso o caractere seja o mesmo é somado uma ponto\r\n",
    "    # a soma total da pontuacao é retornada\r\n",
    "    increment = 0\r\n",
    "    if len(gene) != len(geneObjetivo):\r\n",
    "        print(\"tamanho gene diferente\")\r\n",
    "    for i in range(len(gene)):\r\n",
    "        if gene[i] == geneObjetivo[i]:\r\n",
    "            increment += 1\r\n",
    "    fraseParticionada = geneObjetivo.split(\" \")\r\n",
    "    for j in fraseParticionada:\r\n",
    "        if j in gene:\r\n",
    "            increment += 1\r\n",
    "    return increment"
   ],
   "outputs": [],
   "metadata": {}
  },
  {
   "cell_type": "code",
   "execution_count": 143,
   "source": [
    "def criaGene(tamanho):\r\n",
    "    #cria uma string aleatoria do tamanho especificado\r\n",
    "    s = string.ascii_lowercase+\" \"\r\n",
    "    a = ''.join(random.choices(s,k = tamanho))\r\n",
    "    return a\r\n",
    "\r\n",
    "def getPopulacao(tamanhoGene, tamanhoPopulacao, geneObjetivo):\r\n",
    "    #cria uma populacao com o tamanho especificado\r\n",
    "    #cada membro da populacao possui o seu gene e seu fitness da seguinte forma:\r\n",
    "    #[\"gene\", 2] representa um gene com 2 de fitness\r\n",
    "    lista = []\r\n",
    "    for i in range(tamanhoPopulacao):\r\n",
    "        gene = criaGene(tamanhoGene)\r\n",
    "        lista.append([gene, fitness(gene, geneObjetivo)])\r\n",
    "    return lista"
   ],
   "outputs": [],
   "metadata": {}
  },
  {
   "cell_type": "code",
   "execution_count": 144,
   "source": [
    "def crossOver(populacao, taxaElitismo, taxaMutacao, geneObjetivo, taxaCruzamento):\r\n",
    "    #gera a proxima geracao da populacao\r\n",
    "    #passa para a proxima geracao a populacao com maior fitness de acordo com a taxa de elitismo\r\n",
    "    quantidadeSelecionados = int(taxaElitismo* len(populacao))\r\n",
    "    proximaGeracao = populacao[:quantidadeSelecionados]\r\n",
    "    #demais genes da proxima geracao\r\n",
    "    popLen = len(populacao)\r\n",
    "    while popLen > len(proximaGeracao):\r\n",
    "        #seleciona os melhores possiveis pais utilizando o algoritmo da roleta\r\n",
    "        gene1, gene2 = roleta(populacao)\r\n",
    "        #testa a possibilidade dos pais selecionados terem filhos\r\n",
    "        if random.random() <= taxaCruzamento:\r\n",
    "            #gera os filhos dos pais selecionados e os passam para a proxima geracao\r\n",
    "            pontoMedio = random.randint(1,len(gene1[0]))\r\n",
    "            #gera os filhos combinando os pais\r\n",
    "            geneFilho1 = gene1[0][:pontoMedio]+ gene2[0][pontoMedio:]\r\n",
    "            geneFilho2 = gene2[0][:pontoMedio]+ gene1[0][pontoMedio:]\r\n",
    "            #aplica mutacao nos filhos\r\n",
    "            for j in range(len(geneFilho1)):\r\n",
    "                if random.random() <= taxaMutacao:\r\n",
    "                    s = string.ascii_lowercase + \" \"\r\n",
    "                    geneFilho1 = geneFilho1[:j] + random.choice(s) + geneFilho1[j+1:]\r\n",
    "            for j in range(len(geneFilho2)):\r\n",
    "                if random.random() <= taxaMutacao:\r\n",
    "                    s = string.ascii_lowercase + \" \"\r\n",
    "                    geneFilho2 = geneFilho2[:j] + random.choice(s) + geneFilho2[j+1:]\r\n",
    "            proximaGeracao.append([geneFilho1, fitness(geneFilho1, geneObjetivo)])\r\n",
    "            proximaGeracao.append([geneFilho2, fitness(geneFilho2, geneObjetivo)])\r\n",
    "            populacao.remove(gene1)\r\n",
    "            populacao.remove(gene2)\r\n",
    "        else:\r\n",
    "            #passa os pais para a proxima geracao\r\n",
    "            proximaGeracao.append(gene1)\r\n",
    "            proximaGeracao.append(gene2)\r\n",
    "        \r\n",
    "    return proximaGeracao\r\n"
   ],
   "outputs": [],
   "metadata": {}
  },
  {
   "cell_type": "code",
   "execution_count": 145,
   "source": [
    "def roleta(populacao):\r\n",
    "    #seleciona os dois provaveis melhores pais\r\n",
    "    #os pais com fitness maior tem maior probabilidade de serem escolhidos\r\n",
    "    somaFitness = sum(i[1] for i in populacao)\r\n",
    "    escolha = random.randint(0,somaFitness)\r\n",
    "    aux = 0\r\n",
    "    pai1 = []\r\n",
    "    for i in populacao:\r\n",
    "        aux += i[1]\r\n",
    "        if aux >= escolha:\r\n",
    "            pai1 = i\r\n",
    "            break\r\n",
    "    pai2 = [pai1[0], pai1[1]]\r\n",
    "    while pai2[0] == pai1[0]:\r\n",
    "        escolha = random.randint(0,somaFitness)\r\n",
    "        aux = 0\r\n",
    "        for i in populacao:\r\n",
    "            aux += i[1]\r\n",
    "            if aux >= escolha:\r\n",
    "                pai2 = i\r\n",
    "                break\r\n",
    "    return pai1, pai2"
   ],
   "outputs": [],
   "metadata": {}
  },
  {
   "cell_type": "code",
   "execution_count": 146,
   "source": [
    "def algoritmoGenetico(fraseObjetivo, limite, taxaElitismo = 0.02, tamanhoPopulacao = 200, taxaMutacao = 0.01, passo = 500, taxaCruzamento = 0.20):\r\n",
    "    #cria populacao incial\r\n",
    "    populacaoInicial = getPopulacao(len(fraseObjetivo) , tamanhoPopulacao, fraseObjetivo)\r\n",
    "    #ordena eles do melhor fitness para o pior\r\n",
    "    populacao = sorted(populacaoInicial, key = lambda k: k[1], reverse=True)\r\n",
    "    #intera as geracoes\r\n",
    "    for i in range(limite):\r\n",
    "        if i%passo == 0: \r\n",
    "            print(f'geracao {i}\\nmelhor gene {populacao[0]}')\r\n",
    "        populacao = crossOver(populacao, taxaElitismo, taxaMutacao, fraseObjetivo, taxaCruzamento)\r\n",
    "        populacao = sorted(populacao, key = lambda k: k[1], reverse=True)\r\n",
    "        #checa se a frase objetivo foi alcancada e caso tenha sido encerra o laco de repeticao\r\n",
    "        if(populacao[0][0] == fraseObjetivo):\r\n",
    "            print(f'Objetivo atingido: {populacao[0]}\\nnumero de epocas: {i}')\r\n",
    "            return 0\r\n",
    "    print(f'Objetivo nao atingido\\ngene com maior fitness: {populacao[0]}')"
   ],
   "outputs": [],
   "metadata": {}
  },
  {
   "cell_type": "code",
   "execution_count": 152,
   "source": [
    "if __name__== '__main__':\r\n",
    "    # fraseObjetivo = \"eu durmo e se eu morrer eu acordo morta\"\r\n",
    "    fraseObjetivo = \"to be or not to be\"\r\n",
    "    algoritmoGenetico(fraseObjetivo, 8000, 0.025, 500, 0.10, 1000, 0.10)"
   ],
   "outputs": [
    {
     "output_type": "stream",
     "name": "stdout",
     "text": [
      "geracao 0\n",
      "melhor gene ['todoe sfiqatgctowb', 7]\n",
      "Objetivo atingido: ['to be or not to be', 24]\n",
      "numero de epocas: 172\n"
     ]
    }
   ],
   "metadata": {}
  }
 ],
 "metadata": {
  "orig_nbformat": 4,
  "language_info": {
   "name": "python",
   "version": "3.8.8",
   "mimetype": "text/x-python",
   "codemirror_mode": {
    "name": "ipython",
    "version": 3
   },
   "pygments_lexer": "ipython3",
   "nbconvert_exporter": "python",
   "file_extension": ".py"
  },
  "kernelspec": {
   "name": "python3",
   "display_name": "Python 3.8.8 64-bit ('amb1': conda)"
  },
  "interpreter": {
   "hash": "f8675bac4d7c47efec3eb3e8dba4d90975b8d22e7f01b8f5d363032a5aa58408"
  }
 },
 "nbformat": 4,
 "nbformat_minor": 2
}